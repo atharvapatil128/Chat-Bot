{
  "nbformat": 4,
  "nbformat_minor": 0,
  "metadata": {
    "colab": {
      "name": "new.ipynb",
      "provenance": []
    },
    "kernelspec": {
      "name": "python3",
      "display_name": "Python 3"
    },
    "language_info": {
      "name": "python"
    }
  },
  "cells": [
    {
      "cell_type": "code",
      "metadata": {
        "colab": {
          "base_uri": "https://localhost:8080/"
        },
        "id": "nsUdOInf0AUq",
        "outputId": "a084ec62-576f-421f-ad75-cee42b284f68"
      },
      "source": [
        "from google.colab import drive\n",
        "drive.mount('/content/drive/')   #will help to read data from our drive"
      ],
      "execution_count": null,
      "outputs": [
        {
          "output_type": "stream",
          "name": "stdout",
          "text": [
            "Mounted at /content/drive/\n"
          ]
        }
      ]
    },
    {
      "cell_type": "code",
      "metadata": {
        "id": "P9Gq4nip0EIn"
      },
      "source": [
        "import os\n",
        "os.chdir('/content/drive/My Drive/chat-bot/final')"
      ],
      "execution_count": null,
      "outputs": []
    },
    {
      "cell_type": "code",
      "metadata": {
        "colab": {
          "base_uri": "https://localhost:8080/"
        },
        "id": "iLWlPwKp0LVR",
        "outputId": "cb859756-414b-4a01-80e9-ea98b22c678d"
      },
      "source": [
        "!ls"
      ],
      "execution_count": null,
      "outputs": [
        {
          "output_type": "stream",
          "name": "stdout",
          "text": [
            " final.csv    'final.ipynb - Colaboratory.pdf'\t new.ipynb\n",
            " final.ipynb   merged.txt\n"
          ]
        }
      ]
    },
    {
      "cell_type": "code",
      "metadata": {
        "id": "Lft31xMA0O3P"
      },
      "source": [
        "import re\n",
        "import pandas as pd"
      ],
      "execution_count": null,
      "outputs": []
    },
    {
      "cell_type": "code",
      "metadata": {
        "id": "J4PgeNoF0Xqp"
      },
      "source": [
        "pattern = r'(^[a-zA-Z\\s]+):(.+)'"
      ],
      "execution_count": null,
      "outputs": []
    },
    {
      "cell_type": "code",
      "metadata": {
        "id": "iqkaAYlJ0h--"
      },
      "source": [
        "data = {\n",
        "    'name': [],\n",
        "    'line': []\n",
        "}"
      ],
      "execution_count": null,
      "outputs": []
    },
    {
      "cell_type": "code",
      "metadata": {
        "id": "kNdS0Oia0ah6"
      },
      "source": [
        "with open('merged.txt','rt') as file:\n",
        "  for line in file.readlines():\n",
        "    match=re.findall(pattern, line)\n",
        "    if match:\n",
        "      name,line=match[0]\n",
        "      data['name'].append(name)\n",
        "      data['line'].append(line)"
      ],
      "execution_count": null,
      "outputs": []
    },
    {
      "cell_type": "code",
      "metadata": {
        "id": "wIjPoCwl0kJD"
      },
      "source": [
        "dataUpper = {k.upper(): v for k, v in data.items()}"
      ],
      "execution_count": null,
      "outputs": []
    },
    {
      "cell_type": "code",
      "metadata": {
        "id": "s8-Kt2CM0qOu"
      },
      "source": [
        "dff=pd.DataFrame(data)"
      ],
      "execution_count": null,
      "outputs": []
    },
    {
      "cell_type": "code",
      "metadata": {
        "id": "DkJ-yMN60vSu"
      },
      "source": [
        "dff.to_csv('new_final.csv', index=False)"
      ],
      "execution_count": null,
      "outputs": []
    },
    {
      "cell_type": "code",
      "metadata": {
        "colab": {
          "base_uri": "https://localhost:8080/"
        },
        "id": "gCI2vKgI0zda",
        "outputId": "b7e74add-0a9c-45e9-ce37-7d73fe7d9476"
      },
      "source": [
        "len(dff)"
      ],
      "execution_count": null,
      "outputs": [
        {
          "output_type": "execute_result",
          "data": {
            "text/plain": [
              "6731"
            ]
          },
          "metadata": {},
          "execution_count": 14
        }
      ]
    },
    {
      "cell_type": "code",
      "metadata": {
        "colab": {
          "base_uri": "https://localhost:8080/"
        },
        "id": "c-GyMtSA01m4",
        "outputId": "c09115aa-f05c-4963-decd-37a342973eb9"
      },
      "source": [
        "sum(dff['name']=='JAKE')"
      ],
      "execution_count": null,
      "outputs": [
        {
          "output_type": "execute_result",
          "data": {
            "text/plain": [
              "1279"
            ]
          },
          "metadata": {},
          "execution_count": 16
        }
      ]
    }
  ]
}
