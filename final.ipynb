{
  "nbformat": 4,
  "nbformat_minor": 0,
  "metadata": {
    "colab": {
      "name": "final.ipynb",
      "provenance": []
    },
    "kernelspec": {
      "name": "python3",
      "display_name": "Python 3"
    },
    "language_info": {
      "name": "python"
    }
  },
  "cells": [
    {
      "cell_type": "code",
      "metadata": {
        "colab": {
          "base_uri": "https://localhost:8080/",
          "height": 0
        },
        "id": "bWQn-nRt-Xxt",
        "outputId": "894e0eaa-929a-429f-a67c-ae2ea6584bb6"
      },
      "source": [
        "from google.colab import drive\n",
        "drive.mount('/content/drive/')   #will help to read data from our drive"
      ],
      "execution_count": 1,
      "outputs": [
        {
          "output_type": "stream",
          "name": "stdout",
          "text": [
            "Mounted at /content/drive/\n"
          ]
        }
      ]
    },
    {
      "cell_type": "code",
      "metadata": {
        "id": "hevG_8VK-eWi"
      },
      "source": [
        "import os\n",
        "os.chdir('/content/drive/My Drive/chat-bot')"
      ],
      "execution_count": 2,
      "outputs": []
    },
    {
      "cell_type": "code",
      "metadata": {
        "colab": {
          "base_uri": "https://localhost:8080/",
          "height": 0
        },
        "id": "IAKLQ3Sy-kXQ",
        "outputId": "14570fed-055c-4601-8f3a-d0e67488facc"
      },
      "source": [
        "!ls"
      ],
      "execution_count": 3,
      "outputs": [
        {
          "output_type": "stream",
          "name": "stdout",
          "text": [
            "all_seasons.csv\t\tmerged.csv\t    season-2.txt\n",
            "final.ipynb\t\tparse_script.ipynb  season-3.txt\n",
            "merged-all-seasons.txt\tseason-1.txt\t    season-4.txt\n"
          ]
        }
      ]
    },
    {
      "cell_type": "code",
      "metadata": {
        "id": "zlCTmlLW-m44"
      },
      "source": [
        "import re\n",
        "import pandas as pd"
      ],
      "execution_count": 4,
      "outputs": []
    },
    {
      "cell_type": "code",
      "metadata": {
        "id": "JHy8APxT-pcg"
      },
      "source": [
        "pattern = r'(^[a-zA-Z\\s]+):(.+)'"
      ],
      "execution_count": 5,
      "outputs": []
    },
    {
      "cell_type": "code",
      "metadata": {
        "id": "r89DOtbP-r44"
      },
      "source": [
        "data = {\n",
        "    'name': [],\n",
        "    'line': []\n",
        "}"
      ],
      "execution_count": 6,
      "outputs": []
    },
    {
      "cell_type": "code",
      "metadata": {
        "id": "Mi6t6LoZ-t3m"
      },
      "source": [
        "with open('merged-all-seasons.txt','rt') as file:\n",
        "  for line in file.readlines():\n",
        "    match=re.findall(pattern, line)\n",
        "    if match:\n",
        "      name,line=match[0]\n",
        "      data['name'].append(name)\n",
        "      data['line'].append(line)"
      ],
      "execution_count": 7,
      "outputs": []
    },
    {
      "cell_type": "code",
      "metadata": {
        "id": "Vlgh0DXO-t-n"
      },
      "source": [
        "dataUpper = {k.upper(): v for k, v in data.items()}"
      ],
      "execution_count": 8,
      "outputs": []
    },
    {
      "cell_type": "code",
      "metadata": {
        "id": "Ps5dmDf5-2ma"
      },
      "source": [
        "dff=pd.DataFrame(data)"
      ],
      "execution_count": 9,
      "outputs": []
    },
    {
      "cell_type": "code",
      "metadata": {
        "colab": {
          "base_uri": "https://localhost:8080/",
          "height": 206
        },
        "id": "fezcQQcF-6Rg",
        "outputId": "038180ef-6dbc-4d9b-d818-0b04eafc25ba"
      },
      "source": [
        "dff.head()"
      ],
      "execution_count": 10,
      "outputs": [
        {
          "output_type": "execute_result",
          "data": {
            "text/html": [
              "<div>\n",
              "<style scoped>\n",
              "    .dataframe tbody tr th:only-of-type {\n",
              "        vertical-align: middle;\n",
              "    }\n",
              "\n",
              "    .dataframe tbody tr th {\n",
              "        vertical-align: top;\n",
              "    }\n",
              "\n",
              "    .dataframe thead th {\n",
              "        text-align: right;\n",
              "    }\n",
              "</style>\n",
              "<table border=\"1\" class=\"dataframe\">\n",
              "  <thead>\n",
              "    <tr style=\"text-align: right;\">\n",
              "      <th></th>\n",
              "      <th>name</th>\n",
              "      <th>line</th>\n",
              "    </tr>\n",
              "  </thead>\n",
              "  <tbody>\n",
              "    <tr>\n",
              "      <th>0</th>\n",
              "      <td>JAKE</td>\n",
              "      <td>This job is eating me alive. I can't breathe ...</td>\n",
              "    </tr>\n",
              "    <tr>\n",
              "      <th>1</th>\n",
              "      <td>AMY</td>\n",
              "      <td>Hey! What are you doing, weirdo?</td>\n",
              "    </tr>\n",
              "    <tr>\n",
              "      <th>2</th>\n",
              "      <td>JAKE</td>\n",
              "      <td>I'm doing the best speech from Donnie Brasco....</td>\n",
              "    </tr>\n",
              "    <tr>\n",
              "      <th>3</th>\n",
              "      <td>AMY</td>\n",
              "      <td>Get it together, man. Okay?</td>\n",
              "    </tr>\n",
              "    <tr>\n",
              "      <th>4</th>\n",
              "      <td>AMY</td>\n",
              "      <td>So the store was hit about two hours ago. The...</td>\n",
              "    </tr>\n",
              "  </tbody>\n",
              "</table>\n",
              "</div>"
            ],
            "text/plain": [
              "   name                                               line\n",
              "0  JAKE   This job is eating me alive. I can't breathe ...\n",
              "1   AMY                   Hey! What are you doing, weirdo?\n",
              "2  JAKE   I'm doing the best speech from Donnie Brasco....\n",
              "3   AMY                        Get it together, man. Okay?\n",
              "4   AMY   So the store was hit about two hours ago. The..."
            ]
          },
          "metadata": {},
          "execution_count": 10
        }
      ]
    },
    {
      "cell_type": "code",
      "metadata": {
        "colab": {
          "base_uri": "https://localhost:8080/",
          "height": 0
        },
        "id": "xFOKtfyr--Pg",
        "outputId": "8c2041ad-02b4-49a2-a391-3e936405b0e9"
      },
      "source": [
        "len(dff)"
      ],
      "execution_count": 11,
      "outputs": [
        {
          "output_type": "execute_result",
          "data": {
            "text/plain": [
              "6460"
            ]
          },
          "metadata": {},
          "execution_count": 11
        }
      ]
    },
    {
      "cell_type": "code",
      "metadata": {
        "colab": {
          "base_uri": "https://localhost:8080/",
          "height": 0
        },
        "id": "jfrPVaaL_BB4",
        "outputId": "0bb2fef7-dd93-4310-a765-f8b7da4eff91"
      },
      "source": [
        "sum(dff['name'] == 'JAKE')"
      ],
      "execution_count": 13,
      "outputs": [
        {
          "output_type": "execute_result",
          "data": {
            "text/plain": [
              "1202"
            ]
          },
          "metadata": {},
          "execution_count": 13
        }
      ]
    },
    {
      "cell_type": "code",
      "metadata": {
        "id": "Pu4ArUzW_NRw"
      },
      "source": [
        "dff.to_csv('final.csv', index=False)"
      ],
      "execution_count": 14,
      "outputs": []
    }
  ]
}